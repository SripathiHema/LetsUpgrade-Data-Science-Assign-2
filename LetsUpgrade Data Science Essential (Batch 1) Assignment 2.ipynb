{
 "cells": [
  {
   "cell_type": "markdown",
   "metadata": {},
   "source": [
    "# Question 1 Answer:"
   ]
  },
  {
   "cell_type": "code",
   "execution_count": 1,
   "metadata": {},
   "outputs": [
    {
     "name": "stdout",
     "output_type": "stream",
     "text": [
      "Enter 10 Numbers\n",
      "1\n",
      "2\n",
      "3\n",
      "4\n",
      "5\n",
      "6\n",
      "7\n",
      "8\n",
      "9\n",
      "10\n",
      "[2, 4, 6, 8, 10]\n"
     ]
    }
   ],
   "source": [
    "l=[]\n",
    "print(\"Enter 10 Numbers\")\n",
    "for i in range(10):\n",
    "    b=int(input())\n",
    "    if b%2==0:\n",
    "        l.append(b)\n",
    "print(l)"
   ]
  },
  {
   "cell_type": "markdown",
   "metadata": {},
   "source": [
    "# Question 2 Answer:"
   ]
  },
  {
   "cell_type": "raw",
   "metadata": {},
   "source": [
    "List comprehensions are used for creating new lists from other iterables.\n",
    "As list comprehensions return lists, they consist of brackets containing the expression, which is executed for each element along with the for loop to iterate over each element.\n",
    "\n",
    "basic syntax:\n",
    "new_list = [expression for_loop_one_or_more conditions]"
   ]
  },
  {
   "cell_type": "code",
   "execution_count": 7,
   "metadata": {},
   "outputs": [
    {
     "name": "stdout",
     "output_type": "stream",
     "text": [
      "['h', 'u', 'm', 'a', 'n']\n"
     ]
    }
   ],
   "source": [
    "#List Comprehension Example\n",
    "\n",
    "name=[letter for letter in 'human']\n",
    "print(name)\n"
   ]
  },
  {
   "cell_type": "markdown",
   "metadata": {},
   "source": [
    "# Question 3 Answer:"
   ]
  },
  {
   "cell_type": "code",
   "execution_count": 3,
   "metadata": {},
   "outputs": [
    {
     "name": "stdout",
     "output_type": "stream",
     "text": [
      "4\n",
      "{1: 1, 2: 4, 3: 9, 4: 16}\n"
     ]
    }
   ],
   "source": [
    "n=int(input())\n",
    "d={key:key*key for key in range(1,n+1)}\n",
    "print(d)"
   ]
  },
  {
   "cell_type": "markdown",
   "metadata": {},
   "source": [
    "# Question 4 Answer:"
   ]
  },
  {
   "cell_type": "code",
   "execution_count": 2,
   "metadata": {},
   "outputs": [
    {
     "name": "stdout",
     "output_type": "stream",
     "text": [
      "4\n",
      "UP 10\n",
      "RIGHT 20\n",
      "DOWN 4\n",
      "LEFT 10\n",
      "12\n"
     ]
    }
   ],
   "source": [
    "x=0\n",
    "y=0\n",
    "n=int(input())\n",
    "for i in range(n):\n",
    "    dir=input().split(' ')\n",
    "    if dir[0].upper()==\"UP\":\n",
    "        y+=int(dir[1])\n",
    "    elif dir[0].upper()==\"RIGHT\":\n",
    "        x+=int(dir[1])\n",
    "    elif dir[0].upper()==\"DOWN\":\n",
    "        y-=int(dir[1])\n",
    "    elif dir[0].upper()==\"LEFT\":\n",
    "        x-=int(dir[1])\n",
    "    else:\n",
    "        print(\"Invalid\")\n",
    "pos=float((x**2+y**2)**0.5)\n",
    "print(round(pos))"
   ]
  }
 ],
 "metadata": {
  "kernelspec": {
   "display_name": "Python 3",
   "language": "python",
   "name": "python3"
  },
  "language_info": {
   "codemirror_mode": {
    "name": "ipython",
    "version": 3
   },
   "file_extension": ".py",
   "mimetype": "text/x-python",
   "name": "python",
   "nbconvert_exporter": "python",
   "pygments_lexer": "ipython3",
   "version": "3.8.3"
  }
 },
 "nbformat": 4,
 "nbformat_minor": 4
}
